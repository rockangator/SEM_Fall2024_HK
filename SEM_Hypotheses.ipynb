{
  "nbformat": 4,
  "nbformat_minor": 0,
  "metadata": {
    "colab": {
      "provenance": [],
      "authorship_tag": "ABX9TyPotlbsJzsQjN3xF5360dKi",
      "include_colab_link": true
    },
    "kernelspec": {
      "name": "python3",
      "display_name": "Python 3"
    },
    "language_info": {
      "name": "python"
    }
  },
  "cells": [
    {
      "cell_type": "markdown",
      "metadata": {
        "id": "view-in-github",
        "colab_type": "text"
      },
      "source": [
        "<a href=\"https://colab.research.google.com/github/rockangator/SEM_Fall2024_HK/blob/main/SEM_Hypotheses.ipynb\" target=\"_parent\"><img src=\"https://colab.research.google.com/assets/colab-badge.svg\" alt=\"Open In Colab\"/></a>"
      ]
    },
    {
      "cell_type": "markdown",
      "source": [
        "#PPLX"
      ],
      "metadata": {
        "id": "U7D7NVGURa45"
      }
    },
    {
      "cell_type": "markdown",
      "source": [
        "Here's a Python code file that demonstrates the initial steps in processing EEG data from the BrainLat dataset and creating a basic machine learning model for disease classification. This code serves as a foundation for the more advanced analyses proposed in the project aims."
      ],
      "metadata": {
        "id": "Y7oDKmfZRB0-"
      }
    },
    {
      "cell_type": "code",
      "source": [
        "import numpy as np\n",
        "import pandas as pd\n",
        "import mne\n",
        "import os\n",
        "from sklearn.model_selection import train_test_split\n",
        "from sklearn.preprocessing import StandardScaler\n",
        "from sklearn.ensemble import RandomForestClassifier\n",
        "from sklearn.metrics import classification_report, confusion_matrix\n",
        "import tensorflow as tf\n",
        "\n",
        "# Function to load and preprocess EEG data\n",
        "def load_and_preprocess_eeg(file_path):\n",
        "    raw = mne.io.read_raw_edf(file_path, preload=True)\n",
        "    raw.filter(l_freq=1, h_freq=40)  # Bandpass filter\n",
        "    raw.notch_filter(freqs=60)  # Notch filter for power line noise\n",
        "    return raw\n",
        "\n",
        "# Function to extract features from EEG data\n",
        "def extract_features(raw):\n",
        "    data = raw.get_data()\n",
        "    features = np.concatenate([\n",
        "        np.mean(data, axis=1),\n",
        "        np.std(data, axis=1),\n",
        "        np.max(data, axis=1),\n",
        "        np.min(data, axis=1)\n",
        "    ])\n",
        "    return features\n",
        "\n",
        "# Load and preprocess data\n",
        "data_dir = \"path/to/brainlat/dataset\"\n",
        "subjects = []\n",
        "labels = []\n",
        "\n",
        "for subject_dir in os.listdir(data_dir):\n",
        "    subject_path = os.path.join(data_dir, subject_dir)\n",
        "    if os.path.isdir(subject_path):\n",
        "        eeg_file = os.path.join(subject_path, \"eeg.edf\")\n",
        "        if os.path.exists(eeg_file):\n",
        "            raw = load_and_preprocess_eeg(eeg_file)\n",
        "            features = extract_features(raw)\n",
        "            subjects.append(features)\n",
        "\n",
        "            # Assuming label information is stored in a separate file\n",
        "            label_file = os.path.join(subject_path, \"label.txt\")\n",
        "            with open(label_file, \"r\") as f:\n",
        "                label = f.read().strip()\n",
        "            labels.append(label)\n",
        "\n",
        "X = np.array(subjects)\n",
        "y = np.array(labels)\n",
        "\n",
        "# Split data into train and test sets\n",
        "X_train, X_test, y_train, y_test = train_test_split(X, y, test_size=0.2, random_state=42)\n",
        "\n",
        "# Scale features\n",
        "scaler = StandardScaler()\n",
        "X_train_scaled = scaler.fit_transform(X_train)\n",
        "X_test_scaled = scaler.transform(X_test)\n",
        "\n",
        "# Train a Random Forest Classifier\n",
        "rf_classifier = RandomForestClassifier(n_estimators=100, random_state=42)\n",
        "rf_classifier.fit(X_train_scaled, y_train)\n",
        "\n",
        "# Make predictions and evaluate\n",
        "y_pred = rf_classifier.predict(X_test_scaled)\n",
        "print(classification_report(y_test, y_pred))\n",
        "print(confusion_matrix(y_test, y_pred))\n",
        "\n",
        "# Create a simple neural network model\n",
        "model = tf.keras.Sequential([\n",
        "    tf.keras.layers.Dense(64, activation='relu', input_shape=(X_train_scaled.shape[1],)),\n",
        "    tf.keras.layers.Dense(32, activation='relu'),\n",
        "    tf.keras.layers.Dense(16, activation='relu'),\n",
        "    tf.keras.layers.Dense(1, activation='sigmoid')\n",
        "])\n",
        "\n",
        "model.compile(optimizer='adam', loss='binary_crossentropy', metrics=['accuracy'])\n",
        "\n",
        "# Train the model\n",
        "history = model.fit(X_train_scaled, y_train, epochs=50, batch_size=32, validation_split=0.2, verbose=1)\n",
        "\n",
        "# Evaluate the model\n",
        "test_loss, test_accuracy = model.evaluate(X_test_scaled, y_test)\n",
        "print(f\"Test accuracy: {test_accuracy}\")\n",
        "\n",
        "# Make predictions using the neural network\n",
        "y_pred_nn = model.predict(X_test_scaled)\n",
        "y_pred_nn_classes = (y_pred_nn > 0.5).astype(int).flatten()\n",
        "\n",
        "print(classification_report(y_test, y_pred_nn_classes))\n",
        "print(confusion_matrix(y_test, y_pred_nn_classes))"
      ],
      "metadata": {
        "id": "lgPwdqvNRCaI"
      },
      "execution_count": null,
      "outputs": []
    },
    {
      "cell_type": "markdown",
      "source": [
        "This code demonstrates:\n",
        "\n",
        "1. Loading and preprocessing EEG data using the MNE library.\n",
        "2. Extracting basic features from the EEG signals.\n",
        "3. Training a Random Forest Classifier as a baseline model.\n",
        "4. Creating and training a simple neural network using TensorFlow/Keras.\n",
        "5. Evaluating both models using classification reports and confusion matrices.\n",
        "\n",
        "Note that this code assumes a specific structure for the BrainLat dataset and may need to be adjusted based on the actual data organization. Additionally, for the proposed project aims, this code would need to be expanded to include:\n",
        "\n",
        "1. More advanced feature extraction techniques.\n",
        "2. Implementation of the CNN-LSTM architecture for EEG analysis.\n",
        "3. Integration of genetic and biomarker data.\n",
        "4. Transfer learning from larger datasets.\n",
        "5. Interpretability methods to identify significant features and biomarkers.\n",
        "\n",
        "This code serves as a starting point for the more complex analyses outlined in the project aims."
      ],
      "metadata": {
        "id": "DVlWhlYdRKe5"
      }
    },
    {
      "cell_type": "markdown",
      "source": [
        "#CGT"
      ],
      "metadata": {
        "id": "zlh-LwiJRdg-"
      }
    },
    {
      "cell_type": "markdown",
      "source": [
        "Below is a simplified code outline in Python, which shows the basic structure for loading EEG data, preprocessing it, and setting up an initial machine learning model pipeline to identify features potentially predictive of neurodegeneration."
      ],
      "metadata": {
        "id": "GB4xP7N9RkfT"
      }
    },
    {
      "cell_type": "code",
      "source": [
        "# Import necessary libraries\n",
        "import numpy as np\n",
        "import pandas as pd\n",
        "from sklearn.model_selection import train_test_split\n",
        "from sklearn.ensemble import RandomForestClassifier\n",
        "from sklearn.metrics import accuracy_score\n",
        "import mne  # for EEG data handling\n",
        "\n",
        "# Load EEG data (example using MNE)\n",
        "# Replace 'sample_path' with actual data path\n",
        "eeg_data_path = 'sample_path/eeg_data.fif'\n",
        "raw = mne.io.read_raw_fif(eeg_data_path, preload=True)\n",
        "raw.filter(1., 40.)  # Band-pass filtering to reduce noise\n",
        "\n",
        "# Preprocess EEG data - Feature Extraction\n",
        "eeg_data = raw.get_data()\n",
        "# Calculate power spectral densities (PSD) as an example feature\n",
        "psd, freqs = mne.time_frequency.psd_multitaper(raw, fmin=1, fmax=40)\n",
        "\n",
        "# Define target variables (dummy variables for demonstration)\n",
        "# In real research, these would be labels associated with disease stages or gene markers\n",
        "labels = np.random.randint(0, 2, size=len(psd))\n",
        "\n",
        "# Train-test split\n",
        "X_train, X_test, y_train, y_test = train_test_split(psd, labels, test_size=0.2, random_state=42)\n",
        "\n",
        "# Model training - Example Random Forest Classifier\n",
        "clf = RandomForestClassifier(n_estimators=100, random_state=42)\n",
        "clf.fit(X_train, y_train)\n",
        "\n",
        "# Prediction and evaluation\n",
        "y_pred = clf.predict(X_test)\n",
        "accuracy = accuracy_score(y_test, y_pred)\n",
        "print(f'EEG Biomarker Model Accuracy: {accuracy:.2f}')\n",
        "\n",
        "# Placeholder for future integration with genetic biomarker data\n",
        "# genetic_data = pd.read_csv('path/to/genetic_data.csv')  # example\n"
      ],
      "metadata": {
        "id": "In2_bhZ_RKEz"
      },
      "execution_count": null,
      "outputs": []
    },
    {
      "cell_type": "markdown",
      "source": [
        "This outline serves as a starting point to explore EEG biomarkers and can be extended with genetic and protein datasets as they become available. The code demonstrates basic EEG data handling, preprocessing, and an initial classifier setup to detect potential biomarkers. Advanced architecture and multi-agent models can build upon this foundation."
      ],
      "metadata": {
        "id": "dXPQC2QJRuE3"
      }
    }
  ]
}